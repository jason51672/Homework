{
 "cells": [
  {
   "cell_type": "markdown",
   "metadata": {},
   "source": [
    "# Python Homework (Data Types) \n",
    "\n",
    "**Note**: You can create a Python file or a Jupyter Notebook file\n",
    "\n",
    "<br>\n",
    "\n",
    "#### Data Types:\n",
    "\n",
    "<ins>Use markdown formatting for the following questions (e.g., bold lettering, bullet points, different font sizes, etc.)</ins>: \n",
    "\n",
    "1. What is an algorithm?\n",
    "    - Step by step instructions for solving a problem or performing a computation.\n",
    "2. Variable names may not start with certain characters - name two.\n",
    "    - A variable name must start with a letter or underscore. '1' or '#' are examples of characters variable names can not start with.\n",
    "3. What is a Semantic error?\n",
    "    - A semantic error is an error in logic in your program. It is syntactically correct but does not produce the desired output.\n",
    "4. What is the #1 rule of coding / debugging?\n",
    "    - Complexity is the enemy of efficiency!\n",
    "5. List 5 Python reserved words.\n",
    "    - and\n",
    "    - as\n",
    "    - assert\n",
    "    - break\n",
    "    - else\n",
    "\n",
    "<br>\n",
    "\n",
    "<ins>Open a code cell in your Jupyter Notebook and write the following code</ins>:\n",
    "\n",
    "6. Write a multi-line comment with your name, favorite food, and dream job on 3 different lines"
   ]
  },
  {
   "cell_type": "code",
   "execution_count": null,
   "metadata": {},
   "outputs": [],
   "source": [
    "\"\"\"\n",
    "Jason Miller\n",
    "Crab legs\n",
    "Data Engineer\n",
    "\"\"\""
   ]
  },
  {
   "cell_type": "markdown",
   "metadata": {},
   "source": [
    "7. Assign 5 different data types to 5 different variables. At least one datatype must be a string  \n",
    "    - Print the length of your string\n",
    "    - Print the index value of the 4th character in your string"
   ]
  },
  {
   "cell_type": "code",
   "execution_count": 1,
   "metadata": {},
   "outputs": [
    {
     "name": "stdout",
     "output_type": "stream",
     "text": [
      "17\n",
      "3\n"
     ]
    }
   ],
   "source": [
    "a = \"This is a string.\"\n",
    "b = 20\n",
    "c = 20.5\n",
    "d = True\n",
    "e = [\"apple\", \"grape\", \"plum\"]\n",
    "\n",
    "print(len(a))\n",
    "print(a.index('s'))"
   ]
  },
  {
   "cell_type": "markdown",
   "metadata": {},
   "source": [
    "8. Create a new variable called savvy, and assign it the string with this phrase \"Learning Data Analytics and Python is Awesome!\"\n",
    "    - Return a range of characters that slices the above string from the beginning of  \"ing\" up to before \"and\"\n",
    "    - Replace \"Awesome\" with \"great\" in the string\n",
    "    - Test and print the savvy string to see it contains \"Python\""
   ]
  },
  {
   "cell_type": "code",
   "execution_count": 8,
   "metadata": {},
   "outputs": [
    {
     "name": "stdout",
     "output_type": "stream",
     "text": [
      "ing Data Analytics \n",
      "Learning Data Analytics and Python is great!\n",
      "True\n"
     ]
    }
   ],
   "source": [
    "savvy = \"Learning Data Analytics and Python is Awesome!\"\n",
    "\n",
    "print(savvy[savvy.index('ing'):savvy.index('and')])\n",
    "\n",
    "print(savvy.replace('Awesome','great'))\n",
    "\n",
    "print(\"Python\" in savvy)"
   ]
  },
  {
   "cell_type": "markdown",
   "metadata": {},
   "source": [
    "9. Create and assign 3 more variables called name, age and length using the multi-variable  naming method\n",
    "    - Format a new string called 'miniBio' using variables in curly brackets to complete this phrase... \"Hi my name is (name), I am (tall) and (so) old today.\"\n",
    "    - Print 'miniBio'\n",
    "    - Cast and print the age variable to a float"
   ]
  },
  {
   "cell_type": "code",
   "execution_count": 13,
   "metadata": {},
   "outputs": [
    {
     "name": "stdout",
     "output_type": "stream",
     "text": [
      "Hi my name is Jason Miller, I am 20.5 and 42 old today.\n",
      "42.0\n"
     ]
    }
   ],
   "source": [
    "name, age, length = \"Jason Miller\", 42, 20.5\n",
    "miniBio = f\"Hi my name is {name}, I am {length} and {age} old today.\"\n",
    "print(miniBio)\n",
    "print(float(age))"
   ]
  },
  {
   "cell_type": "markdown",
   "metadata": {},
   "source": [
    "#### Complex Data Types:\n",
    "\n",
    "<br>\n",
    "\n",
    "10. Create a list of at least 5 elements of mixed data types\n",
    "    - Replace a part of it with something else\n",
    "    - Append or insert several more items to the list\n",
    "    - Find and print the length of the list\n",
    "    - Slice a sub-section of the 1st list, and save it to a different 2nd list\n",
    "    - Print the 2nd list\n",
    "    - Extend your original list with the 2nd list sliced above\n",
    "    - Create a new list called \"simList\" containing at least 5 elements of the same data type, either string, integer, float, or Boolean\n",
    "    - Sort \"simList\", and print the list\n",
    "    - Copy the \"simList\" list to another 3rd list\n",
    "    - Add the 2nd and 3rd lists together into a 4th list"
   ]
  },
  {
   "cell_type": "code",
   "execution_count": 27,
   "metadata": {},
   "outputs": [
    {
     "name": "stdout",
     "output_type": "stream",
     "text": [
      "[5, 10.6, 'Hello', True, ['a', 'b', 'c']]\n",
      "[10, 10.6, 'Hello', True, ['a', 'b', 'c']]\n",
      "[10, 10.6, 'Hello', 'Inserted', True, ['a', 'b', 'c'], 'Extra']\n",
      "7\n",
      "[10.6, 'Hello', 'Inserted']\n",
      "[10, 10.6, 'Hello', 'Inserted', True, ['a', 'b', 'c'], 'Extra', 10.6, 'Hello', 'Inserted']\n",
      "[5, 17, 34, 50, 120]\n",
      "[5, 17, 34, 50, 120]\n",
      "[5, 17, 34, 50, 120, 5, 17, 34, 50, 120]\n"
     ]
    }
   ],
   "source": [
    "myList = [5, 10.6, \"Hello\", True, ['a', 'b', 'c']]\n",
    "print(myList)\n",
    "myList[0] = 10\n",
    "print(myList)\n",
    "myList.append(\"Extra\")\n",
    "myList.insert(3,\"Inserted\")\n",
    "print(myList)\n",
    "print(len(myList))\n",
    "myList2 = myList[1:4]\n",
    "print(myList2)\n",
    "myList.extend(myList2)\n",
    "print(myList)\n",
    "simList = [120, 5, 50, 34, 17]\n",
    "simList.sort();\n",
    "print(simList)\n",
    "simList2 = simList.copy()\n",
    "print(simList2)\n",
    "simList3 = simList + simList2\n",
    "print(simList3)\n",
    "\n"
   ]
  },
  {
   "cell_type": "markdown",
   "metadata": {},
   "source": [
    "11. Create a tuple of about 5 elements\n",
    "    - Multiply your tuple by 3 and save it to a new 2nd tuple\n",
    "    - Access and print the 12th element from the 2nd tuple\n",
    "    - Sort the 2nd tuple and print it\n",
    "    - Copy 4 specific elements from your 2nd tuple to a new 3nd tuple\n",
    "    - Unpack the 3rd tuple into 4 variables and print these variables\n",
    "    - Create a 4th tuple with single item 50 and print this tuple\n",
    "    - Add the 2nd and 3rd tuple together into a 5th tuple and print the tuple"
   ]
  },
  {
   "cell_type": "code",
   "execution_count": 43,
   "metadata": {},
   "outputs": [
    {
     "name": "stdout",
     "output_type": "stream",
     "text": [
      "(3, 100, 8.5, True, 99, 3, 100, 8.5, True, 99, 3, 100, 8.5, True, 99)\n",
      "100\n",
      "(True, True, True, 3, 3, 3, 8.5, 8.5, 8.5, 99, 99, 99, 100, 100, 100)\n",
      "(8.5, True, 99, 3)\n",
      "(50,)\n",
      "(3, 100, 8.5, True, 99, 3, 100, 8.5, True, 99, 3, 100, 8.5, True, 99, 8.5, True, 99, 3)\n"
     ]
    }
   ],
   "source": [
    "myTuple = (3, 100, 8.5, True, 99)\n",
    "myTuple2 = myTuple * 3\n",
    "print(myTuple2)\n",
    "print(myTuple2[11])\n",
    "print(tuple(sorted(myTuple2)))\n",
    "myTuple3 = myTuple2[2:6]\n",
    "print(myTuple3)\n",
    "(a, b, c, d) = myTuple3\n",
    "myTuple4 = (50,)\n",
    "print(myTuple4)\n",
    "myTuple5 = myTuple2 + myTuple3\n",
    "print(myTuple5)"
   ]
  },
  {
   "cell_type": "markdown",
   "metadata": {},
   "source": [
    "12. Create a set of about 3 elements\n",
    "    - Add a list of fruits to the above set and print the result\n",
    "    - Add a car element to your set\n",
    "    - Create a 2nd set with a few odd items\n",
    "    - Save the union of 1st set and 2nd set to a 3rd set\n",
    "    - Pop an element from the 2nd set, and print the remainder of the set\n",
    "    - Clear the 1st set and print the result\n",
    "    - Discard an element, and remove another element from the 3rd set"
   ]
  },
  {
   "cell_type": "code",
   "execution_count": 56,
   "metadata": {},
   "outputs": [
    {
     "name": "stdout",
     "output_type": "stream",
     "text": [
      "{101, 7, 'lime', 'apple', 80, 'orange'}\n",
      "{101, 7, 'lime', 'apple', 80, 'car', 'orange'}\n",
      "{101, 5, 7, 9, 'lime', 'apple', 13, 80, 17, 'car', 'orange'}\n",
      "{5, 13, 17}\n",
      "set()\n",
      "{101, 5, 7, 9, 'lime', 'apple', 13, 80, 17, 'car', 'orange'}\n",
      "{101, 5, 7, 'lime', 'apple', 13, 17, 'car', 'orange'}\n"
     ]
    }
   ],
   "source": [
    "mySet = {80, 7, 101}\n",
    "#You can't add a list to a set b/c list not hashable.  Adding elements in a list:\n",
    "mySet.update([\"apple\", \"orange\", \"lime\"])\n",
    "print(mySet)\n",
    "mySet.add(\"car\")\n",
    "print(mySet)\n",
    "mySet2 = {5,9,13,17}\n",
    "mySet3 = mySet.union(mySet2)\n",
    "print(mySet3)\n",
    "mySet2.pop()\n",
    "print(mySet2)\n",
    "mySet.clear()\n",
    "print(mySet)\n",
    "print(mySet3)\n",
    "mySet3.discard(9)\n",
    "mySet3.remove(80)\n",
    "print(mySet3)\n"
   ]
  },
  {
   "cell_type": "markdown",
   "metadata": {},
   "source": [
    "13. Create a dictionary with at least 5 values of different data types\n",
    "    - Print out 1 value\n",
    "    - Replace any one value in your dictionary with your name\n",
    "    - Add your favorite color to the dictionary\n",
    "    - Add a list, tuple or set to your dictionary\n",
    "    - Print a list of the dictionary keys\n",
    "    - Print a list of the dictionary values\n",
    "    - Copy your 1st dictionary into a 2nd dictionary\n",
    "    - Pop an item from the 2nd dictionary, and print the dictionary\n",
    "    - Remove all the elements from the 2nd dictionary and print the result"
   ]
  },
  {
   "cell_type": "code",
   "execution_count": 67,
   "metadata": {},
   "outputs": [
    {
     "name": "stdout",
     "output_type": "stream",
     "text": [
      "Jason Miller\n",
      "Jason G. Miller\n",
      "dict_keys(['name', 'age', 'weight', 'isMarried', 'kids', 'favColor', 'kidsAges'])\n",
      "dict_values(['Jason G. Miller', 42, 210.5, True, ['Jason', 'Katie', 'Kaela'], 'Blue', [13, 12, 11]])\n",
      "{'name': 'Jason G. Miller', 'age': 42, 'weight': 210.5, 'isMarried': True, 'kids': ['Jason', 'Katie', 'Kaela'], 'favColor': 'Blue'}\n",
      "{}\n"
     ]
    }
   ],
   "source": [
    "myDict = {\n",
    "    \"name\": \"Jason Miller\",\n",
    "    \"age\": 42,\n",
    "    \"weight\": 210.5,\n",
    "    \"isMarried\": True,\n",
    "    \"kids\": [\"Jason\", \"Katie\", \"Kaela\"]\n",
    "}\n",
    "print(myDict.get(\"name\"))\n",
    "myDict.update({\"name\":\"Jason G. Miller\"})\n",
    "print(myDict.get(\"name\"))\n",
    "myDict.update({\"favColor\":\"Blue\"})\n",
    "myDict.update({\"kidsAges\":[13,12,11]})\n",
    "print(myDict.keys())\n",
    "print(myDict.values())\n",
    "myDict2 = myDict.copy()\n",
    "myDict2.pop(\"kidsAges\")\n",
    "print(myDict2)\n",
    "myDict2.clear()\n",
    "print(myDict2)\n"
   ]
  },
  {
   "cell_type": "markdown",
   "metadata": {},
   "source": [
    "#### When done with homework:\n",
    "- **Due Date**: The following Monday before class\n",
    "- Make sure your homework file is well named\n",
    "- Add the homework to your Homework repo\n",
    "- Use  `git add .`, `git commit -m \"message\"`, and `git push` to upload your homework changes to GitHub in the cloud\n",
    "- Create a JIRA ticket to indicate that your Homework is ready for review:\n",
    "    - <ins> In the \"Summary\" box</ins>: Include First Name and Last Initial, plus a short description in the Summary box (Ex: Jane D. Week # Homework Complete)\n",
    "    - <ins> In the \"Description\" box</ins>: Include GitHub repo url \n",
    "\n",
    "<br>\n",
    "\n",
    "------------------------------------------------------------------------------------\n",
    "\n",
    "<br>\n",
    "\n",
    "#### Final Note: \n",
    "**<ins>Goals from this past week</ins>**: \n",
    "  - Learn about Python, Jupyter Notebooks and VS Code\n",
    "  - Become familiar with Python data types, including complex data types"
   ]
  }
 ],
 "metadata": {
  "kernelspec": {
   "display_name": "Python 3",
   "language": "python",
   "name": "python3"
  },
  "language_info": {
   "codemirror_mode": {
    "name": "ipython",
    "version": 3
   },
   "file_extension": ".py",
   "mimetype": "text/x-python",
   "name": "python",
   "nbconvert_exporter": "python",
   "pygments_lexer": "ipython3",
   "version": "3.11.5"
  }
 },
 "nbformat": 4,
 "nbformat_minor": 2
}
